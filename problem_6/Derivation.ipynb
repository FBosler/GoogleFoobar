{
 "cells": [
  {
   "cell_type": "markdown",
   "id": "d9d762a0",
   "metadata": {},
   "source": [
    "### Original Sequence\n",
    "\n",
    "${\\mathcal {B}}_{r}^{(i)} = \\lfloor{ir}\\rfloor$\n",
    "\n",
    "$S(n,r) = \\sum_{i=1}^{n} \\mathcal {B}_{r}^{(i)}$\n",
    "\n",
    "$r = \\sqrt{2}$\n",
    "\n",
    "### ${\\mathcal {B}}_{r}^{(i)}$ is a Beatty Sequence => $\\exists$ complementary Series ${\\mathcal {B}}_{s}^{(i)}$\n",
    "\n",
    "${\\mathcal {B}}_{s}^{(i)} = \\lfloor{is}\\rfloor$\n",
    "\n",
    "$S(n,s) = \\sum_{i=1}^{n} \\mathcal {B}_{s}^{(i)}$\n",
    "\n",
    "$s = \\frac{r}{r-1} = \\frac{\\sqrt{2}}{(\\sqrt{2}-1)} = \\frac{\\sqrt{2}(\\sqrt{2}+1)}{(\\sqrt{2}-1)(\\sqrt{2}+1)} = \\frac{2 + \\sqrt{2}}{(\\sqrt{2})^{2}-1^{2}} = \\frac{2 + \\sqrt{2}}{1} = 2 + \\sqrt{2}$\n",
    "\n",
    "####  A bit of equation wrangling\n",
    "\n",
    "${\\mathcal {B}}_{s}^{(i)} = \\lfloor{is}\\rfloor = \\lfloor{i(2 + \\sqrt{2})}\\rfloor = \\lfloor{i\\sqrt{2}}\\rfloor + 2i = {\\mathcal {B}}_{r}^{(i)} + 2i$\n",
    "\n",
    "$S(n,s) = \\sum_{i=1}^{n} \\mathcal {B}_{s}^{(i)} = \\sum_{i=1}^{n} {\\mathcal {B}}_{r}^{(i)} + 2i  = \\textbf{S(n,r)} + n(n+1) \\qquad \\textbf{(i)}$\n",
    "\n",
    "### Property of Beatty sequence and its complementary:\n",
    "Every positive integer belongs to exactly one of ${\\mathcal {B}}_{r}^{(i)}$ or ${\\mathcal {B}}_{s}^{(i)}$.\n",
    "\n",
    "\n",
    "    \n",
    "$S(n,r) + S(\\lfloor{\\frac{{\\mathcal {B}}_{r}^{(n)}}{s}}\\rfloor,s) = \\sum_{i=1}^{{\\mathcal {B}}_{r}^{(n)}} i = \\frac{{\\mathcal {B}}_{r}^{(n)}({\\mathcal {B}}_{r}^{(n)}+1)}{2} \\qquad \\textbf{(ii)}$\n",
    "\n",
    "$S(n,r) + S(\\lfloor{\\frac{{\\mathcal {B}}_{r}^{(n)}}{s}}\\rfloor,s)$\n",
    "\n",
    "$\\stackrel{using  \\; (i)}{=>} S(n,r) + S(\\lfloor{\\frac{{\\mathcal {B}}_{r}^{(n)}}{s}}\\rfloor,r) + \\lfloor{\\frac{{\\mathcal {B}}_{r}^{(n)}}{s}}\\rfloor(\\lfloor{\\frac{{\\mathcal {B}}_{r}^{(n)}}{s}}\\rfloor+1)$\n",
    "\n",
    "$\\stackrel{using  \\; (ii)}{=>} S(n,r) = \\frac{{\\mathcal {B}}_{r}^{(n)}({\\mathcal {B}}_{r}^{(n)}+1)}{2} - S(\\lfloor{\\frac{{\\mathcal {B}}_{r}^{(n)}}{s}}\\rfloor,r) - \\lfloor{\\frac{{\\mathcal {B}}_{r}^{(n)}}{s}}\\rfloor(\\lfloor{\\frac{{\\mathcal {B}}_{r}^{(n)}}{s}}\\rfloor+1)$"
   ]
  }
 ],
 "metadata": {
  "kernelspec": {
   "display_name": "foobar",
   "language": "python",
   "name": "foobar"
  },
  "language_info": {
   "codemirror_mode": {
    "name": "ipython",
    "version": 2
   },
   "file_extension": ".py",
   "mimetype": "text/x-python",
   "name": "python",
   "nbconvert_exporter": "python",
   "pygments_lexer": "ipython2",
   "version": "2.7.13"
  }
 },
 "nbformat": 4,
 "nbformat_minor": 5
}
